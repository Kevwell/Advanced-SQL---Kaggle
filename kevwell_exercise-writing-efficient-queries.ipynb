{
 "cells": [
  {
   "cell_type": "markdown",
   "id": "b7ee7a5f",
   "metadata": {
    "papermill": {
     "duration": 0.004353,
     "end_time": "2022-05-30T16:32:18.633530",
     "exception": false,
     "start_time": "2022-05-30T16:32:18.629177",
     "status": "completed"
    },
    "tags": []
   },
   "source": [
    "**This notebook is an exercise in the [Advanced SQL](https://www.kaggle.com/learn/advanced-sql) course.  You can reference the tutorial at [this link](https://www.kaggle.com/alexisbcook/writing-efficient-queries).**\n",
    "\n",
    "---\n"
   ]
  },
  {
   "cell_type": "markdown",
   "id": "30989918",
   "metadata": {
    "papermill": {
     "duration": 0.003119,
     "end_time": "2022-05-30T16:32:18.642579",
     "exception": false,
     "start_time": "2022-05-30T16:32:18.639460",
     "status": "completed"
    },
    "tags": []
   },
   "source": [
    "# Introduction\n",
    "\n",
    "Now, you'll use what you learned in the previous tutorial to improve the efficiency of several queries.\n",
    "\n",
    "Before you get started, run the following cell to set everything up."
   ]
  },
  {
   "cell_type": "code",
   "execution_count": 1,
   "id": "fdc3b4bc",
   "metadata": {
    "execution": {
     "iopub.execute_input": "2022-05-30T16:32:18.652049Z",
     "iopub.status.busy": "2022-05-30T16:32:18.651135Z",
     "iopub.status.idle": "2022-05-30T16:32:18.701433Z",
     "shell.execute_reply": "2022-05-30T16:32:18.700467Z"
    },
    "papermill": {
     "duration": 0.058311,
     "end_time": "2022-05-30T16:32:18.704405",
     "exception": false,
     "start_time": "2022-05-30T16:32:18.646094",
     "status": "completed"
    },
    "tags": []
   },
   "outputs": [
    {
     "name": "stdout",
     "output_type": "stream",
     "text": [
      "Setup Complete\n"
     ]
    }
   ],
   "source": [
    "# Set up feedback system\n",
    "from learntools.core import binder\n",
    "binder.bind(globals())\n",
    "from learntools.sql_advanced.ex4 import *\n",
    "print(\"Setup Complete\")"
   ]
  },
  {
   "cell_type": "markdown",
   "id": "430d24e7",
   "metadata": {
    "papermill": {
     "duration": 0.003103,
     "end_time": "2022-05-30T16:32:18.711009",
     "exception": false,
     "start_time": "2022-05-30T16:32:18.707906",
     "status": "completed"
    },
    "tags": []
   },
   "source": [
    "# Exercises\n",
    "\n",
    "### 1) You work for Pet Costumes International.\n",
    "\n",
    "You need to write three queries this afternoon. You have enough time to write working versions of all three, but only enough time to think about optimizing one of them.  Which of these queries is most worth optimizing?\n",
    "\n",
    "1. A software engineer wrote an app for the shipping department, to see what items need to be shipped and which aisle of the warehouse to go to for those items. She wants you to write the query. It will involve data that is stored in an `orders` table, a `shipments` table and a `warehouseLocation` table. The employees in the shipping department will pull up this app on a tablet, hit refresh, and your query results will be shown in a nice interface so they can see what costumes to send where.\n",
    "\n",
    "\n",
    "2. The CEO wants a list of all customer reviews and complaints… which are conveniently stored in a single `reviews` table. Some of the reviews are really long… because people love your pirate costumes for parrots, and they can’t stop writing about how cute they are.\n",
    "\n",
    "\n",
    "3. Dog owners are getting more protective than ever. So your engineering department has made costumes with embedded GPS trackers and wireless communication devices. They send the costumes’ coordinates to your database once a second. You then have a website where owners can find the location of their dogs (or at least the costumes they have for those dogs). For this service to work, you need a query that shows the most recent location for all costumes owned by a given human. This will involve data in a `CostumeLocations` table as well as a `CostumeOwners` table.\n",
    "\n",
    "So, which of these could benefit most from being written efficiently?  Set the value of the `query_to_optimize` variable below to one of `1`, `2`, or `3`.  (Your answer should have type **integer**.)"
   ]
  },
  {
   "cell_type": "code",
   "execution_count": 2,
   "id": "06bddd91",
   "metadata": {
    "execution": {
     "iopub.execute_input": "2022-05-30T16:32:18.719549Z",
     "iopub.status.busy": "2022-05-30T16:32:18.719106Z",
     "iopub.status.idle": "2022-05-30T16:32:18.730893Z",
     "shell.execute_reply": "2022-05-30T16:32:18.729660Z"
    },
    "papermill": {
     "duration": 0.018616,
     "end_time": "2022-05-30T16:32:18.732965",
     "exception": false,
     "start_time": "2022-05-30T16:32:18.714349",
     "status": "completed"
    },
    "tags": []
   },
   "outputs": [
    {
     "data": {
      "application/javascript": [
       "parent.postMessage({\"jupyterEvent\": \"custom.exercise_interaction\", \"data\": {\"outcomeType\": 1, \"valueTowardsCompletion\": 0.5, \"interactionType\": 1, \"questionType\": 1, \"questionId\": \"1_PetCostumes\", \"learnToolsVersion\": \"0.3.4\", \"failureMessage\": \"\", \"exceptionClass\": \"\", \"trace\": \"\"}}, \"*\")"
      ],
      "text/plain": [
       "<IPython.core.display.Javascript object>"
      ]
     },
     "metadata": {},
     "output_type": "display_data"
    },
    {
     "data": {
      "text/markdown": [
       "<span style=\"color:#33cc33\">Correct:</span> \n",
       "\n",
       "\n",
       "`query_to_optimize = 3`\n",
       "\n",
       "Why **3**: Because data is sent for each costume at each second, this is the query that is likely to involve the most data (by far). And it will be run on a recurring basis. So writing this well could pay off on a recurring basis.\n",
       "\n",
       "Why not **1**: This is the second most valuable query to optimize. It will be run on a recurring basis, and it involves merges, which is commonly a place where you can make your queries more efficient\n",
       "\n",
       "Why not **2**: This sounds like it will be run only one time. So, it probably doesn’t matter if it takes a few seconds extra or costs a few cents more to run that one time. Also, it doesn’t involve JOINs. While the data has text fields (the reviews), that is the data you need. So, you can’t leave these out of your select query to save computation.\n"
      ],
      "text/plain": [
       "Correct: \n",
       "\n",
       "\n",
       "`query_to_optimize = 3`\n",
       "\n",
       "Why **3**: Because data is sent for each costume at each second, this is the query that is likely to involve the most data (by far). And it will be run on a recurring basis. So writing this well could pay off on a recurring basis.\n",
       "\n",
       "Why not **1**: This is the second most valuable query to optimize. It will be run on a recurring basis, and it involves merges, which is commonly a place where you can make your queries more efficient\n",
       "\n",
       "Why not **2**: This sounds like it will be run only one time. So, it probably doesn’t matter if it takes a few seconds extra or costs a few cents more to run that one time. Also, it doesn’t involve JOINs. While the data has text fields (the reviews), that is the data you need. So, you can’t leave these out of your select query to save computation."
      ]
     },
     "metadata": {},
     "output_type": "display_data"
    }
   ],
   "source": [
    "# Fill in your answer\n",
    "query_to_optimize = 3\n",
    "\n",
    "# Check your answer\n",
    "q_1.check()"
   ]
  },
  {
   "cell_type": "code",
   "execution_count": 3,
   "id": "5d57d832",
   "metadata": {
    "execution": {
     "iopub.execute_input": "2022-05-30T16:32:18.742282Z",
     "iopub.status.busy": "2022-05-30T16:32:18.741602Z",
     "iopub.status.idle": "2022-05-30T16:32:18.749380Z",
     "shell.execute_reply": "2022-05-30T16:32:18.748666Z"
    },
    "papermill": {
     "duration": 0.014596,
     "end_time": "2022-05-30T16:32:18.751307",
     "exception": false,
     "start_time": "2022-05-30T16:32:18.736711",
     "status": "completed"
    },
    "tags": []
   },
   "outputs": [
    {
     "data": {
      "application/javascript": [
       "parent.postMessage({\"jupyterEvent\": \"custom.exercise_interaction\", \"data\": {\"interactionType\": 2, \"questionType\": 1, \"questionId\": \"1_PetCostumes\", \"learnToolsVersion\": \"0.3.4\", \"valueTowardsCompletion\": 0.0, \"failureMessage\": \"\", \"exceptionClass\": \"\", \"trace\": \"\", \"outcomeType\": 4}}, \"*\")"
      ],
      "text/plain": [
       "<IPython.core.display.Javascript object>"
      ]
     },
     "metadata": {},
     "output_type": "display_data"
    },
    {
     "data": {
      "text/markdown": [
       "<span style=\"color:#3366cc\">Hint:</span> Do the queries run on big or small datasets?  Do they need to be run many times, or just once?  Is the data spread over multiple tables, or contained in just one?"
      ],
      "text/plain": [
       "Hint: Do the queries run on big or small datasets?  Do they need to be run many times, or just once?  Is the data spread over multiple tables, or contained in just one?"
      ]
     },
     "metadata": {},
     "output_type": "display_data"
    }
   ],
   "source": [
    "# Lines below will give you a hint or solution code\n",
    "q_1.hint()\n",
    "#q_1.solution()"
   ]
  },
  {
   "cell_type": "markdown",
   "id": "8a53e67d",
   "metadata": {
    "papermill": {
     "duration": 0.003602,
     "end_time": "2022-05-30T16:32:18.758922",
     "exception": false,
     "start_time": "2022-05-30T16:32:18.755320",
     "status": "completed"
    },
    "tags": []
   },
   "source": [
    "### 2) Make it easier to find Mitzie! \n",
    "\n",
    "You have the following two tables:\n",
    "\n",
    "![](https://i.imgur.com/E9jikOQ.png)\n",
    "\n",
    "The `CostumeLocations` table shows timestamped GPS data for all of the pet costumes in the database, where `CostumeID` is a unique identifier for each costume.  \n",
    "\n",
    "The `CostumeOwners` table shows who owns each costume, where the `OwnerID` column contains unique identifiers for each (human) owner.  Note that each owner can have more than one costume!  And, each costume can have more than one owner: this allows multiple individuals from the same household (all with their own, unique `OwnerID`) to access the locations of their pets' costumes.\n",
    "\n",
    "Say you need to use these tables to get the current location of one pet in particular: Mitzie the Dog recently ran off chasing a squirrel, but thankfully she was last seen in her hot dog costume!\n",
    "\n",
    "One of Mitzie's owners (with owner ID `MitzieOwnerID`) logs into your website to pull the last locations of every costume in his possession.  Currently, you get this information by running the following query:\n",
    "\n",
    "```sql\n",
    "WITH LocationsAndOwners AS \n",
    "(\n",
    "SELECT * \n",
    "FROM CostumeOwners co INNER JOIN CostumeLocations cl\n",
    "   ON co.CostumeID = cl.CostumeID\n",
    "),\n",
    "LastSeen AS\n",
    "(\n",
    "SELECT CostumeID, MAX(Timestamp)\n",
    "FROM LocationsAndOwners\n",
    "GROUP BY CostumeID\n",
    ")\n",
    "SELECT lo.CostumeID, Location \n",
    "FROM LocationsAndOwners lo INNER JOIN LastSeen ls \n",
    "\tON lo.Timestamp = ls.Timestamp AND lo.CostumeID = ls.CostumeID\n",
    "WHERE OwnerID = MitzieOwnerID\n",
    "```\n",
    "\n",
    "Is there a way to make this faster or cheaper?"
   ]
  },
  {
   "cell_type": "code",
   "execution_count": 4,
   "id": "028b8489",
   "metadata": {
    "execution": {
     "iopub.execute_input": "2022-05-30T16:32:18.769380Z",
     "iopub.status.busy": "2022-05-30T16:32:18.768298Z",
     "iopub.status.idle": "2022-05-30T16:32:18.776790Z",
     "shell.execute_reply": "2022-05-30T16:32:18.776037Z"
    },
    "papermill": {
     "duration": 0.015529,
     "end_time": "2022-05-30T16:32:18.778792",
     "exception": false,
     "start_time": "2022-05-30T16:32:18.763263",
     "status": "completed"
    },
    "tags": []
   },
   "outputs": [
    {
     "data": {
      "application/javascript": [
       "parent.postMessage({\"jupyterEvent\": \"custom.exercise_interaction\", \"data\": {\"interactionType\": 2, \"questionType\": 4, \"questionId\": \"2_Mitzie\", \"learnToolsVersion\": \"0.3.4\", \"valueTowardsCompletion\": 0.0, \"failureMessage\": \"\", \"exceptionClass\": \"\", \"trace\": \"\", \"outcomeType\": 4}}, \"*\")"
      ],
      "text/plain": [
       "<IPython.core.display.Javascript object>"
      ]
     },
     "metadata": {},
     "output_type": "display_data"
    },
    {
     "data": {
      "text/markdown": [
       "<span style=\"color:#3366cc\">Hint:</span> Do you see any large merges in the query?"
      ],
      "text/plain": [
       "Hint: Do you see any large merges in the query?"
      ]
     },
     "metadata": {},
     "output_type": "display_data"
    }
   ],
   "source": [
    "# Line below will give you a hint\n",
    "q_2.hint()"
   ]
  },
  {
   "cell_type": "markdown",
   "id": "709dee23",
   "metadata": {
    "papermill": {
     "duration": 0.003935,
     "end_time": "2022-05-30T16:32:18.786941",
     "exception": false,
     "start_time": "2022-05-30T16:32:18.783006",
     "status": "completed"
    },
    "tags": []
   },
   "source": [
    "# Conclusion\n",
    "\n",
    "Congratulations!  You have made it to the end of the micro-course.  You should be proud of all of your hard work!\n",
    "\n",
    "There is still a lot of room to build knowledge and experience.  In particular, you're encouraged to look through our BigQuery **[datasets](https://kaggle.com/datasets)** to practice your new skills."
   ]
  },
  {
   "cell_type": "markdown",
   "id": "3a3dcd0c",
   "metadata": {
    "papermill": {
     "duration": 0.003849,
     "end_time": "2022-05-30T16:32:18.794934",
     "exception": false,
     "start_time": "2022-05-30T16:32:18.791085",
     "status": "completed"
    },
    "tags": []
   },
   "source": [
    "---\n",
    "\n",
    "\n",
    "\n",
    "\n",
    "*Have questions or comments? Visit the [course discussion forum](https://www.kaggle.com/learn/advanced-sql/discussion) to chat with other learners.*"
   ]
  }
 ],
 "metadata": {
  "kernelspec": {
   "display_name": "Python 3",
   "language": "python",
   "name": "python3"
  },
  "language_info": {
   "codemirror_mode": {
    "name": "ipython",
    "version": 3
   },
   "file_extension": ".py",
   "mimetype": "text/x-python",
   "name": "python",
   "nbconvert_exporter": "python",
   "pygments_lexer": "ipython3",
   "version": "3.7.12"
  },
  "papermill": {
   "default_parameters": {},
   "duration": 11.191721,
   "end_time": "2022-05-30T16:32:19.521069",
   "environment_variables": {},
   "exception": null,
   "input_path": "__notebook__.ipynb",
   "output_path": "__notebook__.ipynb",
   "parameters": {},
   "start_time": "2022-05-30T16:32:08.329348",
   "version": "2.3.4"
  }
 },
 "nbformat": 4,
 "nbformat_minor": 5
}
